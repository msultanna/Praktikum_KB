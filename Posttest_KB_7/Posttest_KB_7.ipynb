{
  "nbformat": 4,
  "nbformat_minor": 0,
  "metadata": {
    "colab": {
      "provenance": []
    },
    "kernelspec": {
      "name": "python3",
      "display_name": "Python 3"
    },
    "language_info": {
      "name": "python"
    }
  },
  "cells": [
    {
      "cell_type": "code",
      "execution_count": 1,
      "metadata": {
        "id": "8UzCf2nCBOQC"
      },
      "outputs": [],
      "source": [
        "import numpy as np\n",
        "import tensorflow as tf"
      ]
    },
    {
      "cell_type": "code",
      "source": [
        "#Membuat random tensor dengan shape 5:5\n",
        "\n",
        "random_tensor = tf.random.normal([5,5], mean=0, stddev=1, seed=1)\n",
        "random_tensor"
      ],
      "metadata": {
        "colab": {
          "base_uri": "https://localhost:8080/"
        },
        "id": "_tGT9qmeBiC1",
        "outputId": "ecd76b1c-8ef2-49f4-caa6-de628c93d554"
      },
      "execution_count": 2,
      "outputs": [
        {
          "output_type": "execute_result",
          "data": {
            "text/plain": [
              "<tf.Tensor: shape=(5, 5), dtype=float32, numpy=\n",
              "array([[-0.8113182 ,  1.4845988 ,  0.06532937, -2.4427042 ,  0.0992484 ],\n",
              "       [ 0.5912243 ,  0.59282297, -2.1229296 , -0.72289723, -0.05627038],\n",
              "       [ 0.6435448 , -0.26432407,  1.8566332 ,  0.5678417 , -0.3828359 ],\n",
              "       [-1.4853433 ,  1.2617711 , -0.02530608, -0.2646297 ,  1.5328138 ],\n",
              "       [-1.7429771 , -0.43789294, -0.56601   ,  0.32066926,  1.132831  ]],\n",
              "      dtype=float32)>"
            ]
          },
          "metadata": {},
          "execution_count": 2
        }
      ]
    },
    {
      "cell_type": "code",
      "source": [
        "#Membuat prime tensor list bilangan prima dengan shape 5:5\n",
        "\n",
        "prime_tensor = tf.constant([2, 3, 5, 7, 11, 13, 17, 19, 23, 29, 31, 37, 41, 43, 47, 53, 59, 61, 71, 73, 79, 83, 89, 97, 101], \n",
        "                           shape=[5, 5], dtype=tf.float32)\n",
        "prime_tensor"
      ],
      "metadata": {
        "colab": {
          "base_uri": "https://localhost:8080/"
        },
        "id": "9lbhgosQBnA3",
        "outputId": "19b5d623-5004-403b-e653-576173f46777"
      },
      "execution_count": 4,
      "outputs": [
        {
          "output_type": "execute_result",
          "data": {
            "text/plain": [
              "<tf.Tensor: shape=(5, 5), dtype=float32, numpy=\n",
              "array([[  2.,   3.,   5.,   7.,  11.],\n",
              "       [ 13.,  17.,  19.,  23.,  29.],\n",
              "       [ 31.,  37.,  41.,  43.,  47.],\n",
              "       [ 53.,  59.,  61.,  71.,  73.],\n",
              "       [ 79.,  83.,  89.,  97., 101.]], dtype=float32)>"
            ]
          },
          "metadata": {},
          "execution_count": 4
        }
      ]
    },
    {
      "cell_type": "code",
      "source": [
        "#Perhitungan aritmatika add (pertambahan)\n",
        "\n",
        "print(tf.add(random_tensor, prime_tensor))"
      ],
      "metadata": {
        "colab": {
          "base_uri": "https://localhost:8080/"
        },
        "id": "EOyGQ8f1BrJS",
        "outputId": "9c538090-7cb6-4922-90c7-8dbd5b41e0e6"
      },
      "execution_count": 5,
      "outputs": [
        {
          "output_type": "stream",
          "name": "stdout",
          "text": [
            "tf.Tensor(\n",
            "[[  1.1886818   4.4845986   5.0653296   4.557296   11.099248 ]\n",
            " [ 13.591225   17.592823   16.877071   22.277103   28.94373  ]\n",
            " [ 31.643545   36.735676   42.856632   43.56784    46.617165 ]\n",
            " [ 51.514656   60.261772   60.974693   70.73537    74.532814 ]\n",
            " [ 77.25702    82.5621     88.43399    97.32067   102.13283  ]], shape=(5, 5), dtype=float32)\n"
          ]
        }
      ]
    },
    {
      "cell_type": "code",
      "source": [
        "#Perhitungan aritmatika multiply (perkalian)\n",
        "\n",
        "print(tf.multiply(random_tensor, prime_tensor))"
      ],
      "metadata": {
        "colab": {
          "base_uri": "https://localhost:8080/"
        },
        "id": "JGSfD1qjBypa",
        "outputId": "44ad0265-1cd5-4d57-b82c-11de7345e242"
      },
      "execution_count": 6,
      "outputs": [
        {
          "output_type": "stream",
          "name": "stdout",
          "text": [
            "tf.Tensor(\n",
            "[[  -1.6226364     4.4537964     0.32664686  -17.09893       1.0917324 ]\n",
            " [   7.685916     10.077991    -40.335663    -16.626637     -1.6318411 ]\n",
            " [  19.949888     -9.77999      76.12196      24.417194    -17.993286  ]\n",
            " [ -78.7232       74.444496     -1.5436709   -18.788708    111.89541   ]\n",
            " [-137.69519     -36.345116    -50.37489      31.10492     114.41593   ]], shape=(5, 5), dtype=float32)\n"
          ]
        }
      ]
    },
    {
      "cell_type": "code",
      "source": [
        "#Perhitungan aritmatika pow (pangkat)\n",
        "\n",
        "print(tf.pow(random_tensor, prime_tensor))"
      ],
      "metadata": {
        "colab": {
          "base_uri": "https://localhost:8080/"
        },
        "id": "_oVuH-GhB3Ad",
        "outputId": "b4ee1687-2302-42d1-c3af-4ef1979aac13"
      },
      "execution_count": 7,
      "outputs": [
        {
          "output_type": "stream",
          "name": "stdout",
          "text": [
            "tf.Tensor(\n",
            "[[ 6.58237278e-01  3.27210546e+00  1.18998764e-06 -5.18914917e+02\n",
            "   9.20362137e-12]\n",
            " [ 1.07839960e-03  1.37951167e-04 -1.62845650e+06 -5.73800469e-04\n",
            "  -5.72948387e-37]\n",
            " [ 1.16397109e-06 -4.15966456e-22  1.04176673e+11  2.70254808e-11\n",
            "  -2.52112615e-20]\n",
            " [-1.27886054e+09  9.07514625e+05  0.00000000e+00  0.00000000e+00\n",
            "   3.47317018e+13]\n",
            " [-1.15356923e+19 -1.71214119e-30 -1.00310215e-22  0.00000000e+00\n",
            "   2.95581156e+05]], shape=(5, 5), dtype=float32)\n"
          ]
        }
      ]
    },
    {
      "cell_type": "code",
      "source": [
        "#Perhitungan aritmatika divide (pembagian)\n",
        "\n",
        "print(tf.divide(random_tensor, prime_tensor))"
      ],
      "metadata": {
        "colab": {
          "base_uri": "https://localhost:8080/"
        },
        "id": "2CmqQvS_B7uI",
        "outputId": "36c97887-a391-4a23-c6a7-600212d94f1f"
      },
      "execution_count": 8,
      "outputs": [
        {
          "output_type": "stream",
          "name": "stdout",
          "text": [
            "tf.Tensor(\n",
            "[[-4.0565911e-01  4.9486625e-01  1.3065875e-02 -3.4895775e-01\n",
            "   9.0225823e-03]\n",
            " [ 4.5478795e-02  3.4871940e-02 -1.1173314e-01 -3.1430315e-02\n",
            "  -1.9403580e-03]\n",
            " [ 2.0759510e-02 -7.1438937e-03  4.5283735e-02  1.3205621e-02\n",
            "  -8.1454450e-03]\n",
            " [-2.8025346e-02  2.1385951e-02 -4.1485377e-04 -3.7271788e-03\n",
            "   2.0997450e-02]\n",
            " [-2.2063002e-02 -5.2758185e-03 -6.3596629e-03  3.3058687e-03\n",
            "   1.1216149e-02]], shape=(5, 5), dtype=float32)\n"
          ]
        }
      ]
    },
    {
      "cell_type": "code",
      "source": [
        "#Perhitungan aritmatika math.log (logaritma)\n",
        "\n",
        "print(tf.math.log(random_tensor, prime_tensor))"
      ],
      "metadata": {
        "colab": {
          "base_uri": "https://localhost:8080/"
        },
        "id": "0hc2sedPCA5H",
        "outputId": "213300a0-e88d-4a22-f75b-ec851acce10d"
      },
      "execution_count": 9,
      "outputs": [
        {
          "output_type": "stream",
          "name": "stdout",
          "text": [
            "tf.Tensor(\n",
            "[[        nan  0.39514455 -2.7283134          nan -2.3101294 ]\n",
            " [-0.5255598  -0.52285945         nan         nan         nan]\n",
            " [-0.44076362         nan  0.61876476 -0.5659126          nan]\n",
            " [        nan  0.23251635         nan         nan  0.42710513]\n",
            " [        nan         nan         nan -1.1373451   0.12471979]], shape=(5, 5), dtype=float32)\n"
          ]
        }
      ]
    },
    {
      "cell_type": "code",
      "source": [
        "#Nilai maximal dari random_tensor\n",
        "\n",
        "argmax_random = tf.random.normal([5,5])\n",
        "print(\"input random tensor:\",argmax_random.numpy())\n",
        "\n",
        "max_random_1 = tf.argmax(argmax_random, axis = 0)\n",
        "max_random_2 = tf.argmax(argmax_random, axis = 1)\n",
        "\n",
        "print(\"maximum value berdasarkan kolom:\",max_random_1.numpy())\n",
        "print(\"maximum value berdasarkan baris:\",max_random_2.numpy())"
      ],
      "metadata": {
        "colab": {
          "base_uri": "https://localhost:8080/"
        },
        "id": "d_isEYMtCGMu",
        "outputId": "c8a79164-fbdf-46c5-a6dc-c2846d9faca6"
      },
      "execution_count": 10,
      "outputs": [
        {
          "output_type": "stream",
          "name": "stdout",
          "text": [
            "input random tensor: [[ 0.21342176  1.3095477  -0.57754314 -0.31980047  1.467242  ]\n",
            " [-0.05753502  0.02266257 -0.96670383  0.9413119   0.18412326]\n",
            " [-0.08667534  2.7458904   1.064518   -3.1231961   1.4745425 ]\n",
            " [ 2.519278   -0.42202002  0.15024595  1.6885092  -1.1007594 ]\n",
            " [ 0.10280827 -0.7607598   1.1633481   0.17536719  0.41489968]]\n",
            "maximum value berdasarkan kolom: [3 2 4 3 2]\n",
            "maximum value berdasarkan baris: [4 3 1 0 2]\n"
          ]
        }
      ]
    },
    {
      "cell_type": "code",
      "source": [
        "#Nilai minimal dari random_tensor\n",
        "\n",
        "argmin_random = tf.random.normal([5,5])\n",
        "print(\"input random tensor:\",argmin_random.numpy())\n",
        "\n",
        "min_random_1 = tf.argmin(argmin_random, axis = 0)\n",
        "min_random_2 = tf.argmin(argmin_random, axis = 1)\n",
        "\n",
        "print(\"minimum value berdasarkan kolom:\",min_random_1.numpy())\n",
        "print(\"minimum value berdasarkan baris:\",min_random_2.numpy())"
      ],
      "metadata": {
        "colab": {
          "base_uri": "https://localhost:8080/"
        },
        "id": "WU-JTHDoCLPs",
        "outputId": "9dd27de6-99bf-47f8-f978-fc94643b3df7"
      },
      "execution_count": 11,
      "outputs": [
        {
          "output_type": "stream",
          "name": "stdout",
          "text": [
            "input random tensor: [[ 0.70646673 -2.840777   -0.78938127 -0.73451793  0.47536397]\n",
            " [-0.19698144 -0.9561825   0.2766684   0.4109617   0.1444939 ]\n",
            " [ 0.76444596 -1.1149095  -0.51608837  1.3302883  -0.89304954]\n",
            " [ 0.73872143 -1.9687704  -1.6996181   0.40177938 -0.04408925]\n",
            " [-1.0604987  -0.4189825  -0.2869952  -1.1821845   1.0337051 ]]\n",
            "minimum value berdasarkan kolom: [4 0 3 4 2]\n",
            "minimum value berdasarkan baris: [1 1 1 1 3]\n"
          ]
        }
      ]
    },
    {
      "cell_type": "code",
      "source": [
        "#Concatenation Penggabungan variable random_tensor & prime_tensor\n",
        "\n",
        "random_tensor = tf.random.normal([5,5], mean=0, stddev=1, seed=1)\n",
        "prime_tensor = tf.constant([2, 3, 5, 7, 11, 13, 17, 19, 23, 29, 31, 37, 41, 43, 47, 53, 59, 61, 71, 73, 79, 83, 89, 97, 101], \n",
        "                           shape=[5, 5], dtype=tf.float32)\n",
        "print(\"size original data:\",random_tensor.shape,prime_tensor.shape)\n",
        "concated_tensor = tf.concat([random_tensor,prime_tensor],axis=0)\n",
        "print(\"size concatenated data:\",concated_tensor.shape)"
      ],
      "metadata": {
        "colab": {
          "base_uri": "https://localhost:8080/"
        },
        "id": "x3BhwYQ5CRGq",
        "outputId": "cef33082-f68a-4e99-c135-338594cfd7b9"
      },
      "execution_count": 12,
      "outputs": [
        {
          "output_type": "stream",
          "name": "stdout",
          "text": [
            "size original data: (5, 5) (5, 5)\n",
            "size concatenated data: (10, 5)\n"
          ]
        }
      ]
    },
    {
      "cell_type": "code",
      "source": [
        "#Sorting descending variable random_tensor & prime_tensor\n",
        "\n",
        "random_tensor = tf.random.normal([5,5], mean=0, stddev=1, seed=1)\n",
        "print(\"input random tensor:\",random_tensor.numpy())\n",
        "prime_tensor = tf.constant([2, 3, 5, 7, 11, 13, 17, 19, 23, 29, 31, 37, 41, 43, 47, 53, 59, 61, 71, 73, 79, 83, 89, 97, 101], \n",
        "                           shape=[5, 5], dtype=tf.float32)\n",
        "\n",
        "print(\"input prime tensor:\",prime_tensor.numpy())\n",
        "sorted_random = tf.sort(random_tensor, direction = \"DESCENDING\")\n",
        "print(\"random tensor sorted dengan descending order:\",sorted_random.numpy())\n",
        "sorted_prime = tf.sort(prime_tensor, direction = \"DESCENDING\")\n",
        "print(\"prime tensor sorted dengan descending order:\",sorted_prime.numpy())"
      ],
      "metadata": {
        "colab": {
          "base_uri": "https://localhost:8080/"
        },
        "id": "jwaokmwsCV8k",
        "outputId": "8bd23d6d-33eb-4aad-9c60-a5a8925527b2"
      },
      "execution_count": 13,
      "outputs": [
        {
          "output_type": "stream",
          "name": "stdout",
          "text": [
            "input random tensor: [[-0.28433853  0.8922832   0.8983451   0.7163981   0.34969485]\n",
            " [-0.37960768  0.01531979  0.27423722 -2.214901   -0.08514621]\n",
            " [ 1.0113182   0.6616626   1.383323   -0.40465203  0.86142987]\n",
            " [-0.12589967 -1.418615    2.0295074   0.15304402  0.13658497]\n",
            " [-0.49787143  0.38847125 -0.4244715   0.46214256 -0.5444318 ]]\n",
            "input prime tensor: [[  2.   3.   5.   7.  11.]\n",
            " [ 13.  17.  19.  23.  29.]\n",
            " [ 31.  37.  41.  43.  47.]\n",
            " [ 53.  59.  61.  71.  73.]\n",
            " [ 79.  83.  89.  97. 101.]]\n",
            "random tensor sorted dengan descending order: [[ 0.8983451   0.8922832   0.7163981   0.34969485 -0.28433853]\n",
            " [ 0.27423722  0.01531979 -0.08514621 -0.37960768 -2.214901  ]\n",
            " [ 1.383323    1.0113182   0.86142987  0.6616626  -0.40465203]\n",
            " [ 2.0295074   0.15304402  0.13658497 -0.12589967 -1.418615  ]\n",
            " [ 0.46214256  0.38847125 -0.4244715  -0.49787143 -0.5444318 ]]\n",
            "prime tensor sorted dengan descending order: [[ 11.   7.   5.   3.   2.]\n",
            " [ 29.  23.  19.  17.  13.]\n",
            " [ 47.  43.  41.  37.  31.]\n",
            " [ 73.  71.  61.  59.  53.]\n",
            " [101.  97.  89.  83.  79.]]\n"
          ]
        }
      ]
    }
  ]
}