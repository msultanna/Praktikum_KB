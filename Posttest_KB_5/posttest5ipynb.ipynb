{
  "nbformat": 4,
  "nbformat_minor": 0,
  "metadata": {
    "colab": {
      "provenance": [],
      "collapsed_sections": []
    },
    "kernelspec": {
      "name": "python3",
      "display_name": "Python 3"
    },
    "language_info": {
      "name": "python"
    }
  },
  "cells": [
    {
      "cell_type": "code",
      "execution_count": 4,
      "metadata": {
        "id": "nhelP3C7F7qS"
      },
      "outputs": [],
      "source": [
        "import pandas as pd\n",
        "import matplotlib.pyplot as plt\n",
        "import seaborn as sns\n",
        "import numpy as np\n",
        "\n",
        "#Melakukan Data Cleaning\n",
        "from sklearn.impute import SimpleImputer\n",
        "\n",
        "#Melakukan Classifikasi KNN\n",
        "from sklearn.model_selection import train_test_split\n",
        "from sklearn.neighbors import KNeighborsClassifier\n",
        "from sklearn.metrics import accuracy_score\n",
        "\n",
        "#Melakukan Classifikasi NAIVE BAYES\n",
        "from sklearn.model_selection import train_test_split\n",
        "from sklearn.naive_bayes import GaussianNB\n",
        "from sklearn.metrics import accuracy_score"
      ]
    },
    {
      "cell_type": "code",
      "source": [
        "df = pd.read_csv(\"cars.csv\")"
      ],
      "metadata": {
        "id": "YyNT2yibGveA"
      },
      "execution_count": 9,
      "outputs": []
    },
    {
      "cell_type": "code",
      "source": [
        "df"
      ],
      "metadata": {
        "colab": {
          "base_uri": "https://localhost:8080/",
          "height": 487
        },
        "id": "S0wVzp_sGzqT",
        "outputId": "ebc2bf3c-c219-4e44-8dfb-562443c34742"
      },
      "execution_count": 10,
      "outputs": [
        {
          "output_type": "execute_result",
          "data": {
            "text/plain": [
              "      manufacturer_name  model_name transmission   color  odometer_value  \\\n",
              "0                Subaru     Outback    automatic  silver          190000   \n",
              "1                Subaru     Outback    automatic    blue          290000   \n",
              "2                Subaru    Forester    automatic     red          402000   \n",
              "3                Subaru     Impreza   mechanical    blue           10000   \n",
              "4                Subaru      Legacy    automatic   black          280000   \n",
              "...                 ...         ...          ...     ...             ...   \n",
              "38526          Chrysler         300    automatic  silver          290000   \n",
              "38527          Chrysler  PT Cruiser   mechanical    blue          321000   \n",
              "38528          Chrysler         300    automatic    blue          777957   \n",
              "38529          Chrysler  PT Cruiser   mechanical   black           20000   \n",
              "38530          Chrysler     Voyager    automatic  silver          297729   \n",
              "\n",
              "       year_produced engine_fuel  engine_has_gas engine_type  engine_capacity  \\\n",
              "0               2010    gasoline           False    gasoline              2.5   \n",
              "1               2002    gasoline           False    gasoline              3.0   \n",
              "2               2001    gasoline           False    gasoline              2.5   \n",
              "3               1999    gasoline           False    gasoline              3.0   \n",
              "4               2001    gasoline           False    gasoline              2.5   \n",
              "...              ...         ...             ...         ...              ...   \n",
              "38526           2000    gasoline           False    gasoline              3.5   \n",
              "38527           2004      diesel           False      diesel              2.2   \n",
              "38528           2000    gasoline           False    gasoline              3.5   \n",
              "38529           2001    gasoline           False    gasoline              2.0   \n",
              "38530           2000    gasoline           False    gasoline              2.4   \n",
              "\n",
              "       ... feature_1  feature_2 feature_3 feature_4  feature_5  feature_6  \\\n",
              "0      ...      True       True      True     False       True      False   \n",
              "1      ...      True      False     False      True       True      False   \n",
              "2      ...      True      False     False     False      False      False   \n",
              "3      ...     False      False     False     False      False      False   \n",
              "4      ...      True      False      True      True      False      False   \n",
              "...    ...       ...        ...       ...       ...        ...        ...   \n",
              "38526  ...      True      False     False      True       True      False   \n",
              "38527  ...      True      False     False      True       True      False   \n",
              "38528  ...      True      False     False      True       True      False   \n",
              "38529  ...      True      False     False     False      False      False   \n",
              "38530  ...     False      False     False     False      False      False   \n",
              "\n",
              "      feature_7  feature_8  feature_9  duration_listed  \n",
              "0          True       True       True               16  \n",
              "1         False      False       True               83  \n",
              "2         False       True       True              151  \n",
              "3         False      False      False               86  \n",
              "4         False      False       True                7  \n",
              "...         ...        ...        ...              ...  \n",
              "38526     False       True       True              301  \n",
              "38527     False       True       True              317  \n",
              "38528     False       True       True              369  \n",
              "38529     False      False       True              490  \n",
              "38530     False      False       True              632  \n",
              "\n",
              "[38531 rows x 30 columns]"
            ],
            "text/html": [
              "\n",
              "  <div id=\"df-37aa0337-62b3-47b9-ac75-32d716f2c87a\">\n",
              "    <div class=\"colab-df-container\">\n",
              "      <div>\n",
              "<style scoped>\n",
              "    .dataframe tbody tr th:only-of-type {\n",
              "        vertical-align: middle;\n",
              "    }\n",
              "\n",
              "    .dataframe tbody tr th {\n",
              "        vertical-align: top;\n",
              "    }\n",
              "\n",
              "    .dataframe thead th {\n",
              "        text-align: right;\n",
              "    }\n",
              "</style>\n",
              "<table border=\"1\" class=\"dataframe\">\n",
              "  <thead>\n",
              "    <tr style=\"text-align: right;\">\n",
              "      <th></th>\n",
              "      <th>manufacturer_name</th>\n",
              "      <th>model_name</th>\n",
              "      <th>transmission</th>\n",
              "      <th>color</th>\n",
              "      <th>odometer_value</th>\n",
              "      <th>year_produced</th>\n",
              "      <th>engine_fuel</th>\n",
              "      <th>engine_has_gas</th>\n",
              "      <th>engine_type</th>\n",
              "      <th>engine_capacity</th>\n",
              "      <th>...</th>\n",
              "      <th>feature_1</th>\n",
              "      <th>feature_2</th>\n",
              "      <th>feature_3</th>\n",
              "      <th>feature_4</th>\n",
              "      <th>feature_5</th>\n",
              "      <th>feature_6</th>\n",
              "      <th>feature_7</th>\n",
              "      <th>feature_8</th>\n",
              "      <th>feature_9</th>\n",
              "      <th>duration_listed</th>\n",
              "    </tr>\n",
              "  </thead>\n",
              "  <tbody>\n",
              "    <tr>\n",
              "      <th>0</th>\n",
              "      <td>Subaru</td>\n",
              "      <td>Outback</td>\n",
              "      <td>automatic</td>\n",
              "      <td>silver</td>\n",
              "      <td>190000</td>\n",
              "      <td>2010</td>\n",
              "      <td>gasoline</td>\n",
              "      <td>False</td>\n",
              "      <td>gasoline</td>\n",
              "      <td>2.5</td>\n",
              "      <td>...</td>\n",
              "      <td>True</td>\n",
              "      <td>True</td>\n",
              "      <td>True</td>\n",
              "      <td>False</td>\n",
              "      <td>True</td>\n",
              "      <td>False</td>\n",
              "      <td>True</td>\n",
              "      <td>True</td>\n",
              "      <td>True</td>\n",
              "      <td>16</td>\n",
              "    </tr>\n",
              "    <tr>\n",
              "      <th>1</th>\n",
              "      <td>Subaru</td>\n",
              "      <td>Outback</td>\n",
              "      <td>automatic</td>\n",
              "      <td>blue</td>\n",
              "      <td>290000</td>\n",
              "      <td>2002</td>\n",
              "      <td>gasoline</td>\n",
              "      <td>False</td>\n",
              "      <td>gasoline</td>\n",
              "      <td>3.0</td>\n",
              "      <td>...</td>\n",
              "      <td>True</td>\n",
              "      <td>False</td>\n",
              "      <td>False</td>\n",
              "      <td>True</td>\n",
              "      <td>True</td>\n",
              "      <td>False</td>\n",
              "      <td>False</td>\n",
              "      <td>False</td>\n",
              "      <td>True</td>\n",
              "      <td>83</td>\n",
              "    </tr>\n",
              "    <tr>\n",
              "      <th>2</th>\n",
              "      <td>Subaru</td>\n",
              "      <td>Forester</td>\n",
              "      <td>automatic</td>\n",
              "      <td>red</td>\n",
              "      <td>402000</td>\n",
              "      <td>2001</td>\n",
              "      <td>gasoline</td>\n",
              "      <td>False</td>\n",
              "      <td>gasoline</td>\n",
              "      <td>2.5</td>\n",
              "      <td>...</td>\n",
              "      <td>True</td>\n",
              "      <td>False</td>\n",
              "      <td>False</td>\n",
              "      <td>False</td>\n",
              "      <td>False</td>\n",
              "      <td>False</td>\n",
              "      <td>False</td>\n",
              "      <td>True</td>\n",
              "      <td>True</td>\n",
              "      <td>151</td>\n",
              "    </tr>\n",
              "    <tr>\n",
              "      <th>3</th>\n",
              "      <td>Subaru</td>\n",
              "      <td>Impreza</td>\n",
              "      <td>mechanical</td>\n",
              "      <td>blue</td>\n",
              "      <td>10000</td>\n",
              "      <td>1999</td>\n",
              "      <td>gasoline</td>\n",
              "      <td>False</td>\n",
              "      <td>gasoline</td>\n",
              "      <td>3.0</td>\n",
              "      <td>...</td>\n",
              "      <td>False</td>\n",
              "      <td>False</td>\n",
              "      <td>False</td>\n",
              "      <td>False</td>\n",
              "      <td>False</td>\n",
              "      <td>False</td>\n",
              "      <td>False</td>\n",
              "      <td>False</td>\n",
              "      <td>False</td>\n",
              "      <td>86</td>\n",
              "    </tr>\n",
              "    <tr>\n",
              "      <th>4</th>\n",
              "      <td>Subaru</td>\n",
              "      <td>Legacy</td>\n",
              "      <td>automatic</td>\n",
              "      <td>black</td>\n",
              "      <td>280000</td>\n",
              "      <td>2001</td>\n",
              "      <td>gasoline</td>\n",
              "      <td>False</td>\n",
              "      <td>gasoline</td>\n",
              "      <td>2.5</td>\n",
              "      <td>...</td>\n",
              "      <td>True</td>\n",
              "      <td>False</td>\n",
              "      <td>True</td>\n",
              "      <td>True</td>\n",
              "      <td>False</td>\n",
              "      <td>False</td>\n",
              "      <td>False</td>\n",
              "      <td>False</td>\n",
              "      <td>True</td>\n",
              "      <td>7</td>\n",
              "    </tr>\n",
              "    <tr>\n",
              "      <th>...</th>\n",
              "      <td>...</td>\n",
              "      <td>...</td>\n",
              "      <td>...</td>\n",
              "      <td>...</td>\n",
              "      <td>...</td>\n",
              "      <td>...</td>\n",
              "      <td>...</td>\n",
              "      <td>...</td>\n",
              "      <td>...</td>\n",
              "      <td>...</td>\n",
              "      <td>...</td>\n",
              "      <td>...</td>\n",
              "      <td>...</td>\n",
              "      <td>...</td>\n",
              "      <td>...</td>\n",
              "      <td>...</td>\n",
              "      <td>...</td>\n",
              "      <td>...</td>\n",
              "      <td>...</td>\n",
              "      <td>...</td>\n",
              "      <td>...</td>\n",
              "    </tr>\n",
              "    <tr>\n",
              "      <th>38526</th>\n",
              "      <td>Chrysler</td>\n",
              "      <td>300</td>\n",
              "      <td>automatic</td>\n",
              "      <td>silver</td>\n",
              "      <td>290000</td>\n",
              "      <td>2000</td>\n",
              "      <td>gasoline</td>\n",
              "      <td>False</td>\n",
              "      <td>gasoline</td>\n",
              "      <td>3.5</td>\n",
              "      <td>...</td>\n",
              "      <td>True</td>\n",
              "      <td>False</td>\n",
              "      <td>False</td>\n",
              "      <td>True</td>\n",
              "      <td>True</td>\n",
              "      <td>False</td>\n",
              "      <td>False</td>\n",
              "      <td>True</td>\n",
              "      <td>True</td>\n",
              "      <td>301</td>\n",
              "    </tr>\n",
              "    <tr>\n",
              "      <th>38527</th>\n",
              "      <td>Chrysler</td>\n",
              "      <td>PT Cruiser</td>\n",
              "      <td>mechanical</td>\n",
              "      <td>blue</td>\n",
              "      <td>321000</td>\n",
              "      <td>2004</td>\n",
              "      <td>diesel</td>\n",
              "      <td>False</td>\n",
              "      <td>diesel</td>\n",
              "      <td>2.2</td>\n",
              "      <td>...</td>\n",
              "      <td>True</td>\n",
              "      <td>False</td>\n",
              "      <td>False</td>\n",
              "      <td>True</td>\n",
              "      <td>True</td>\n",
              "      <td>False</td>\n",
              "      <td>False</td>\n",
              "      <td>True</td>\n",
              "      <td>True</td>\n",
              "      <td>317</td>\n",
              "    </tr>\n",
              "    <tr>\n",
              "      <th>38528</th>\n",
              "      <td>Chrysler</td>\n",
              "      <td>300</td>\n",
              "      <td>automatic</td>\n",
              "      <td>blue</td>\n",
              "      <td>777957</td>\n",
              "      <td>2000</td>\n",
              "      <td>gasoline</td>\n",
              "      <td>False</td>\n",
              "      <td>gasoline</td>\n",
              "      <td>3.5</td>\n",
              "      <td>...</td>\n",
              "      <td>True</td>\n",
              "      <td>False</td>\n",
              "      <td>False</td>\n",
              "      <td>True</td>\n",
              "      <td>True</td>\n",
              "      <td>False</td>\n",
              "      <td>False</td>\n",
              "      <td>True</td>\n",
              "      <td>True</td>\n",
              "      <td>369</td>\n",
              "    </tr>\n",
              "    <tr>\n",
              "      <th>38529</th>\n",
              "      <td>Chrysler</td>\n",
              "      <td>PT Cruiser</td>\n",
              "      <td>mechanical</td>\n",
              "      <td>black</td>\n",
              "      <td>20000</td>\n",
              "      <td>2001</td>\n",
              "      <td>gasoline</td>\n",
              "      <td>False</td>\n",
              "      <td>gasoline</td>\n",
              "      <td>2.0</td>\n",
              "      <td>...</td>\n",
              "      <td>True</td>\n",
              "      <td>False</td>\n",
              "      <td>False</td>\n",
              "      <td>False</td>\n",
              "      <td>False</td>\n",
              "      <td>False</td>\n",
              "      <td>False</td>\n",
              "      <td>False</td>\n",
              "      <td>True</td>\n",
              "      <td>490</td>\n",
              "    </tr>\n",
              "    <tr>\n",
              "      <th>38530</th>\n",
              "      <td>Chrysler</td>\n",
              "      <td>Voyager</td>\n",
              "      <td>automatic</td>\n",
              "      <td>silver</td>\n",
              "      <td>297729</td>\n",
              "      <td>2000</td>\n",
              "      <td>gasoline</td>\n",
              "      <td>False</td>\n",
              "      <td>gasoline</td>\n",
              "      <td>2.4</td>\n",
              "      <td>...</td>\n",
              "      <td>False</td>\n",
              "      <td>False</td>\n",
              "      <td>False</td>\n",
              "      <td>False</td>\n",
              "      <td>False</td>\n",
              "      <td>False</td>\n",
              "      <td>False</td>\n",
              "      <td>False</td>\n",
              "      <td>True</td>\n",
              "      <td>632</td>\n",
              "    </tr>\n",
              "  </tbody>\n",
              "</table>\n",
              "<p>38531 rows × 30 columns</p>\n",
              "</div>\n",
              "      <button class=\"colab-df-convert\" onclick=\"convertToInteractive('df-37aa0337-62b3-47b9-ac75-32d716f2c87a')\"\n",
              "              title=\"Convert this dataframe to an interactive table.\"\n",
              "              style=\"display:none;\">\n",
              "        \n",
              "  <svg xmlns=\"http://www.w3.org/2000/svg\" height=\"24px\"viewBox=\"0 0 24 24\"\n",
              "       width=\"24px\">\n",
              "    <path d=\"M0 0h24v24H0V0z\" fill=\"none\"/>\n",
              "    <path d=\"M18.56 5.44l.94 2.06.94-2.06 2.06-.94-2.06-.94-.94-2.06-.94 2.06-2.06.94zm-11 1L8.5 8.5l.94-2.06 2.06-.94-2.06-.94L8.5 2.5l-.94 2.06-2.06.94zm10 10l.94 2.06.94-2.06 2.06-.94-2.06-.94-.94-2.06-.94 2.06-2.06.94z\"/><path d=\"M17.41 7.96l-1.37-1.37c-.4-.4-.92-.59-1.43-.59-.52 0-1.04.2-1.43.59L10.3 9.45l-7.72 7.72c-.78.78-.78 2.05 0 2.83L4 21.41c.39.39.9.59 1.41.59.51 0 1.02-.2 1.41-.59l7.78-7.78 2.81-2.81c.8-.78.8-2.07 0-2.86zM5.41 20L4 18.59l7.72-7.72 1.47 1.35L5.41 20z\"/>\n",
              "  </svg>\n",
              "      </button>\n",
              "      \n",
              "  <style>\n",
              "    .colab-df-container {\n",
              "      display:flex;\n",
              "      flex-wrap:wrap;\n",
              "      gap: 12px;\n",
              "    }\n",
              "\n",
              "    .colab-df-convert {\n",
              "      background-color: #E8F0FE;\n",
              "      border: none;\n",
              "      border-radius: 50%;\n",
              "      cursor: pointer;\n",
              "      display: none;\n",
              "      fill: #1967D2;\n",
              "      height: 32px;\n",
              "      padding: 0 0 0 0;\n",
              "      width: 32px;\n",
              "    }\n",
              "\n",
              "    .colab-df-convert:hover {\n",
              "      background-color: #E2EBFA;\n",
              "      box-shadow: 0px 1px 2px rgba(60, 64, 67, 0.3), 0px 1px 3px 1px rgba(60, 64, 67, 0.15);\n",
              "      fill: #174EA6;\n",
              "    }\n",
              "\n",
              "    [theme=dark] .colab-df-convert {\n",
              "      background-color: #3B4455;\n",
              "      fill: #D2E3FC;\n",
              "    }\n",
              "\n",
              "    [theme=dark] .colab-df-convert:hover {\n",
              "      background-color: #434B5C;\n",
              "      box-shadow: 0px 1px 3px 1px rgba(0, 0, 0, 0.15);\n",
              "      filter: drop-shadow(0px 1px 2px rgba(0, 0, 0, 0.3));\n",
              "      fill: #FFFFFF;\n",
              "    }\n",
              "  </style>\n",
              "\n",
              "      <script>\n",
              "        const buttonEl =\n",
              "          document.querySelector('#df-37aa0337-62b3-47b9-ac75-32d716f2c87a button.colab-df-convert');\n",
              "        buttonEl.style.display =\n",
              "          google.colab.kernel.accessAllowed ? 'block' : 'none';\n",
              "\n",
              "        async function convertToInteractive(key) {\n",
              "          const element = document.querySelector('#df-37aa0337-62b3-47b9-ac75-32d716f2c87a');\n",
              "          const dataTable =\n",
              "            await google.colab.kernel.invokeFunction('convertToInteractive',\n",
              "                                                     [key], {});\n",
              "          if (!dataTable) return;\n",
              "\n",
              "          const docLinkHtml = 'Like what you see? Visit the ' +\n",
              "            '<a target=\"_blank\" href=https://colab.research.google.com/notebooks/data_table.ipynb>data table notebook</a>'\n",
              "            + ' to learn more about interactive tables.';\n",
              "          element.innerHTML = '';\n",
              "          dataTable['output_type'] = 'display_data';\n",
              "          await google.colab.output.renderOutput(dataTable, element);\n",
              "          const docLink = document.createElement('div');\n",
              "          docLink.innerHTML = docLinkHtml;\n",
              "          element.appendChild(docLink);\n",
              "        }\n",
              "      </script>\n",
              "    </div>\n",
              "  </div>\n",
              "  "
            ]
          },
          "metadata": {},
          "execution_count": 10
        }
      ]
    },
    {
      "cell_type": "code",
      "source": [
        "dataset_ns = df.copy()"
      ],
      "metadata": {
        "id": "j5amvwUQG2fK"
      },
      "execution_count": 11,
      "outputs": []
    },
    {
      "cell_type": "code",
      "source": [
        "imputer_mean = SimpleImputer(strategy='mean')\n",
        "imputer_median = SimpleImputer(strategy='median')\n",
        "imputer_modus = SimpleImputer(strategy='most_frequent')"
      ],
      "metadata": {
        "id": "uRcQcSmnHOLw"
      },
      "execution_count": 12,
      "outputs": []
    },
    {
      "cell_type": "code",
      "source": [
        "#MODUS\n",
        "dataset_ns['engine_capacity'] = imputer_modus.fit_transform(dataset_ns[['engine_capacity']])\n",
        "dataset_ns.isna().sum()"
      ],
      "metadata": {
        "colab": {
          "base_uri": "https://localhost:8080/"
        },
        "id": "ozZAFB44HR5W",
        "outputId": "171ab884-e37d-42a7-ad62-50ed803d42d4"
      },
      "execution_count": 14,
      "outputs": [
        {
          "output_type": "execute_result",
          "data": {
            "text/plain": [
              "manufacturer_name    0\n",
              "model_name           0\n",
              "transmission         0\n",
              "color                0\n",
              "odometer_value       0\n",
              "year_produced        0\n",
              "engine_fuel          0\n",
              "engine_has_gas       0\n",
              "engine_type          0\n",
              "engine_capacity      0\n",
              "body_type            0\n",
              "has_warranty         0\n",
              "state                0\n",
              "drivetrain           0\n",
              "price_usd            0\n",
              "is_exchangeable      0\n",
              "location_region      0\n",
              "number_of_photos     0\n",
              "up_counter           0\n",
              "feature_0            0\n",
              "feature_1            0\n",
              "feature_2            0\n",
              "feature_3            0\n",
              "feature_4            0\n",
              "feature_5            0\n",
              "feature_6            0\n",
              "feature_7            0\n",
              "feature_8            0\n",
              "feature_9            0\n",
              "duration_listed      0\n",
              "dtype: int64"
            ]
          },
          "metadata": {},
          "execution_count": 14
        }
      ]
    },
    {
      "cell_type": "code",
      "source": [
        "#MEAN\n",
        "dataset_ns['duration_listed'] = imputer_mean.fit_transform(dataset_ns[['duration_listed']])\n",
        "\n",
        "dataset_ns.isna().sum()"
      ],
      "metadata": {
        "colab": {
          "base_uri": "https://localhost:8080/"
        },
        "id": "chOD4ILOHtuT",
        "outputId": "d7ed3505-186a-4c05-ee38-eb64434b7d0f"
      },
      "execution_count": 17,
      "outputs": [
        {
          "output_type": "execute_result",
          "data": {
            "text/plain": [
              "manufacturer_name    0\n",
              "model_name           0\n",
              "transmission         0\n",
              "color                0\n",
              "odometer_value       0\n",
              "year_produced        0\n",
              "engine_fuel          0\n",
              "engine_has_gas       0\n",
              "engine_type          0\n",
              "engine_capacity      0\n",
              "body_type            0\n",
              "has_warranty         0\n",
              "state                0\n",
              "drivetrain           0\n",
              "price_usd            0\n",
              "is_exchangeable      0\n",
              "location_region      0\n",
              "number_of_photos     0\n",
              "up_counter           0\n",
              "feature_0            0\n",
              "feature_1            0\n",
              "feature_2            0\n",
              "feature_3            0\n",
              "feature_4            0\n",
              "feature_5            0\n",
              "feature_6            0\n",
              "feature_7            0\n",
              "feature_8            0\n",
              "feature_9            0\n",
              "duration_listed      0\n",
              "dtype: int64"
            ]
          },
          "metadata": {},
          "execution_count": 17
        }
      ]
    },
    {
      "cell_type": "code",
      "source": [
        "dataset_ns.dropna(inplace=True)\n",
        "\n",
        "dataset_ns.isna().sum()"
      ],
      "metadata": {
        "colab": {
          "base_uri": "https://localhost:8080/"
        },
        "id": "9eFQysCUINYU",
        "outputId": "4014d0e2-c724-4b34-d479-1e54b4f73595"
      },
      "execution_count": 19,
      "outputs": [
        {
          "output_type": "execute_result",
          "data": {
            "text/plain": [
              "manufacturer_name    0\n",
              "model_name           0\n",
              "transmission         0\n",
              "color                0\n",
              "odometer_value       0\n",
              "year_produced        0\n",
              "engine_fuel          0\n",
              "engine_has_gas       0\n",
              "engine_type          0\n",
              "engine_capacity      0\n",
              "body_type            0\n",
              "has_warranty         0\n",
              "state                0\n",
              "drivetrain           0\n",
              "price_usd            0\n",
              "is_exchangeable      0\n",
              "location_region      0\n",
              "number_of_photos     0\n",
              "up_counter           0\n",
              "feature_0            0\n",
              "feature_1            0\n",
              "feature_2            0\n",
              "feature_3            0\n",
              "feature_4            0\n",
              "feature_5            0\n",
              "feature_6            0\n",
              "feature_7            0\n",
              "feature_8            0\n",
              "feature_9            0\n",
              "duration_listed      0\n",
              "dtype: int64"
            ]
          },
          "metadata": {},
          "execution_count": 19
        }
      ]
    },
    {
      "cell_type": "code",
      "source": [
        "#DATA DUPLICATE\n",
        "dataset_duplicate = df.copy()\n",
        "\n",
        "dataset_duplicate.duplicated().sum()"
      ],
      "metadata": {
        "colab": {
          "base_uri": "https://localhost:8080/"
        },
        "id": "OYfcMbsIIav4",
        "outputId": "a5f21a72-fa7e-4cb8-bc96-d3cfb7da6a99"
      },
      "execution_count": 20,
      "outputs": [
        {
          "output_type": "execute_result",
          "data": {
            "text/plain": [
              "40"
            ]
          },
          "metadata": {},
          "execution_count": 20
        }
      ]
    },
    {
      "cell_type": "code",
      "source": [
        "dataset_duplicate.drop_duplicates(inplace=True)\n",
        "\n",
        "dataset_duplicate.duplicated().sum()"
      ],
      "metadata": {
        "colab": {
          "base_uri": "https://localhost:8080/"
        },
        "id": "lPAxFSD3IkyG",
        "outputId": "11b61eb4-f18f-4f03-8b99-ea6e9ac1ca37"
      },
      "execution_count": 21,
      "outputs": [
        {
          "output_type": "execute_result",
          "data": {
            "text/plain": [
              "0"
            ]
          },
          "metadata": {},
          "execution_count": 21
        }
      ]
    },
    {
      "cell_type": "code",
      "source": [
        "#(K-NEAREST NEIGHBOUR) CLASSIFICATION\n",
        "dataset_ns.head()"
      ],
      "metadata": {
        "colab": {
          "base_uri": "https://localhost:8080/",
          "height": 299
        },
        "id": "Yj2kvjYOIn_u",
        "outputId": "3455b731-7ee4-4ff5-8935-bc8602ceed51"
      },
      "execution_count": 22,
      "outputs": [
        {
          "output_type": "execute_result",
          "data": {
            "text/plain": [
              "  manufacturer_name model_name transmission   color  odometer_value  \\\n",
              "0            Subaru    Outback    automatic  silver          190000   \n",
              "1            Subaru    Outback    automatic    blue          290000   \n",
              "2            Subaru   Forester    automatic     red          402000   \n",
              "3            Subaru    Impreza   mechanical    blue           10000   \n",
              "4            Subaru     Legacy    automatic   black          280000   \n",
              "\n",
              "   year_produced engine_fuel  engine_has_gas engine_type  engine_capacity  \\\n",
              "0           2010    gasoline           False    gasoline              2.5   \n",
              "1           2002    gasoline           False    gasoline              3.0   \n",
              "2           2001    gasoline           False    gasoline              2.5   \n",
              "3           1999    gasoline           False    gasoline              3.0   \n",
              "4           2001    gasoline           False    gasoline              2.5   \n",
              "\n",
              "   ... feature_1  feature_2 feature_3 feature_4  feature_5  feature_6  \\\n",
              "0  ...      True       True      True     False       True      False   \n",
              "1  ...      True      False     False      True       True      False   \n",
              "2  ...      True      False     False     False      False      False   \n",
              "3  ...     False      False     False     False      False      False   \n",
              "4  ...      True      False      True      True      False      False   \n",
              "\n",
              "  feature_7  feature_8  feature_9  duration_listed  \n",
              "0      True       True       True             16.0  \n",
              "1     False      False       True             83.0  \n",
              "2     False       True       True            151.0  \n",
              "3     False      False      False             86.0  \n",
              "4     False      False       True              7.0  \n",
              "\n",
              "[5 rows x 30 columns]"
            ],
            "text/html": [
              "\n",
              "  <div id=\"df-ff93eed3-7c2a-4ecc-9ef4-ca1969756c74\">\n",
              "    <div class=\"colab-df-container\">\n",
              "      <div>\n",
              "<style scoped>\n",
              "    .dataframe tbody tr th:only-of-type {\n",
              "        vertical-align: middle;\n",
              "    }\n",
              "\n",
              "    .dataframe tbody tr th {\n",
              "        vertical-align: top;\n",
              "    }\n",
              "\n",
              "    .dataframe thead th {\n",
              "        text-align: right;\n",
              "    }\n",
              "</style>\n",
              "<table border=\"1\" class=\"dataframe\">\n",
              "  <thead>\n",
              "    <tr style=\"text-align: right;\">\n",
              "      <th></th>\n",
              "      <th>manufacturer_name</th>\n",
              "      <th>model_name</th>\n",
              "      <th>transmission</th>\n",
              "      <th>color</th>\n",
              "      <th>odometer_value</th>\n",
              "      <th>year_produced</th>\n",
              "      <th>engine_fuel</th>\n",
              "      <th>engine_has_gas</th>\n",
              "      <th>engine_type</th>\n",
              "      <th>engine_capacity</th>\n",
              "      <th>...</th>\n",
              "      <th>feature_1</th>\n",
              "      <th>feature_2</th>\n",
              "      <th>feature_3</th>\n",
              "      <th>feature_4</th>\n",
              "      <th>feature_5</th>\n",
              "      <th>feature_6</th>\n",
              "      <th>feature_7</th>\n",
              "      <th>feature_8</th>\n",
              "      <th>feature_9</th>\n",
              "      <th>duration_listed</th>\n",
              "    </tr>\n",
              "  </thead>\n",
              "  <tbody>\n",
              "    <tr>\n",
              "      <th>0</th>\n",
              "      <td>Subaru</td>\n",
              "      <td>Outback</td>\n",
              "      <td>automatic</td>\n",
              "      <td>silver</td>\n",
              "      <td>190000</td>\n",
              "      <td>2010</td>\n",
              "      <td>gasoline</td>\n",
              "      <td>False</td>\n",
              "      <td>gasoline</td>\n",
              "      <td>2.5</td>\n",
              "      <td>...</td>\n",
              "      <td>True</td>\n",
              "      <td>True</td>\n",
              "      <td>True</td>\n",
              "      <td>False</td>\n",
              "      <td>True</td>\n",
              "      <td>False</td>\n",
              "      <td>True</td>\n",
              "      <td>True</td>\n",
              "      <td>True</td>\n",
              "      <td>16.0</td>\n",
              "    </tr>\n",
              "    <tr>\n",
              "      <th>1</th>\n",
              "      <td>Subaru</td>\n",
              "      <td>Outback</td>\n",
              "      <td>automatic</td>\n",
              "      <td>blue</td>\n",
              "      <td>290000</td>\n",
              "      <td>2002</td>\n",
              "      <td>gasoline</td>\n",
              "      <td>False</td>\n",
              "      <td>gasoline</td>\n",
              "      <td>3.0</td>\n",
              "      <td>...</td>\n",
              "      <td>True</td>\n",
              "      <td>False</td>\n",
              "      <td>False</td>\n",
              "      <td>True</td>\n",
              "      <td>True</td>\n",
              "      <td>False</td>\n",
              "      <td>False</td>\n",
              "      <td>False</td>\n",
              "      <td>True</td>\n",
              "      <td>83.0</td>\n",
              "    </tr>\n",
              "    <tr>\n",
              "      <th>2</th>\n",
              "      <td>Subaru</td>\n",
              "      <td>Forester</td>\n",
              "      <td>automatic</td>\n",
              "      <td>red</td>\n",
              "      <td>402000</td>\n",
              "      <td>2001</td>\n",
              "      <td>gasoline</td>\n",
              "      <td>False</td>\n",
              "      <td>gasoline</td>\n",
              "      <td>2.5</td>\n",
              "      <td>...</td>\n",
              "      <td>True</td>\n",
              "      <td>False</td>\n",
              "      <td>False</td>\n",
              "      <td>False</td>\n",
              "      <td>False</td>\n",
              "      <td>False</td>\n",
              "      <td>False</td>\n",
              "      <td>True</td>\n",
              "      <td>True</td>\n",
              "      <td>151.0</td>\n",
              "    </tr>\n",
              "    <tr>\n",
              "      <th>3</th>\n",
              "      <td>Subaru</td>\n",
              "      <td>Impreza</td>\n",
              "      <td>mechanical</td>\n",
              "      <td>blue</td>\n",
              "      <td>10000</td>\n",
              "      <td>1999</td>\n",
              "      <td>gasoline</td>\n",
              "      <td>False</td>\n",
              "      <td>gasoline</td>\n",
              "      <td>3.0</td>\n",
              "      <td>...</td>\n",
              "      <td>False</td>\n",
              "      <td>False</td>\n",
              "      <td>False</td>\n",
              "      <td>False</td>\n",
              "      <td>False</td>\n",
              "      <td>False</td>\n",
              "      <td>False</td>\n",
              "      <td>False</td>\n",
              "      <td>False</td>\n",
              "      <td>86.0</td>\n",
              "    </tr>\n",
              "    <tr>\n",
              "      <th>4</th>\n",
              "      <td>Subaru</td>\n",
              "      <td>Legacy</td>\n",
              "      <td>automatic</td>\n",
              "      <td>black</td>\n",
              "      <td>280000</td>\n",
              "      <td>2001</td>\n",
              "      <td>gasoline</td>\n",
              "      <td>False</td>\n",
              "      <td>gasoline</td>\n",
              "      <td>2.5</td>\n",
              "      <td>...</td>\n",
              "      <td>True</td>\n",
              "      <td>False</td>\n",
              "      <td>True</td>\n",
              "      <td>True</td>\n",
              "      <td>False</td>\n",
              "      <td>False</td>\n",
              "      <td>False</td>\n",
              "      <td>False</td>\n",
              "      <td>True</td>\n",
              "      <td>7.0</td>\n",
              "    </tr>\n",
              "  </tbody>\n",
              "</table>\n",
              "<p>5 rows × 30 columns</p>\n",
              "</div>\n",
              "      <button class=\"colab-df-convert\" onclick=\"convertToInteractive('df-ff93eed3-7c2a-4ecc-9ef4-ca1969756c74')\"\n",
              "              title=\"Convert this dataframe to an interactive table.\"\n",
              "              style=\"display:none;\">\n",
              "        \n",
              "  <svg xmlns=\"http://www.w3.org/2000/svg\" height=\"24px\"viewBox=\"0 0 24 24\"\n",
              "       width=\"24px\">\n",
              "    <path d=\"M0 0h24v24H0V0z\" fill=\"none\"/>\n",
              "    <path d=\"M18.56 5.44l.94 2.06.94-2.06 2.06-.94-2.06-.94-.94-2.06-.94 2.06-2.06.94zm-11 1L8.5 8.5l.94-2.06 2.06-.94-2.06-.94L8.5 2.5l-.94 2.06-2.06.94zm10 10l.94 2.06.94-2.06 2.06-.94-2.06-.94-.94-2.06-.94 2.06-2.06.94z\"/><path d=\"M17.41 7.96l-1.37-1.37c-.4-.4-.92-.59-1.43-.59-.52 0-1.04.2-1.43.59L10.3 9.45l-7.72 7.72c-.78.78-.78 2.05 0 2.83L4 21.41c.39.39.9.59 1.41.59.51 0 1.02-.2 1.41-.59l7.78-7.78 2.81-2.81c.8-.78.8-2.07 0-2.86zM5.41 20L4 18.59l7.72-7.72 1.47 1.35L5.41 20z\"/>\n",
              "  </svg>\n",
              "      </button>\n",
              "      \n",
              "  <style>\n",
              "    .colab-df-container {\n",
              "      display:flex;\n",
              "      flex-wrap:wrap;\n",
              "      gap: 12px;\n",
              "    }\n",
              "\n",
              "    .colab-df-convert {\n",
              "      background-color: #E8F0FE;\n",
              "      border: none;\n",
              "      border-radius: 50%;\n",
              "      cursor: pointer;\n",
              "      display: none;\n",
              "      fill: #1967D2;\n",
              "      height: 32px;\n",
              "      padding: 0 0 0 0;\n",
              "      width: 32px;\n",
              "    }\n",
              "\n",
              "    .colab-df-convert:hover {\n",
              "      background-color: #E2EBFA;\n",
              "      box-shadow: 0px 1px 2px rgba(60, 64, 67, 0.3), 0px 1px 3px 1px rgba(60, 64, 67, 0.15);\n",
              "      fill: #174EA6;\n",
              "    }\n",
              "\n",
              "    [theme=dark] .colab-df-convert {\n",
              "      background-color: #3B4455;\n",
              "      fill: #D2E3FC;\n",
              "    }\n",
              "\n",
              "    [theme=dark] .colab-df-convert:hover {\n",
              "      background-color: #434B5C;\n",
              "      box-shadow: 0px 1px 3px 1px rgba(0, 0, 0, 0.15);\n",
              "      filter: drop-shadow(0px 1px 2px rgba(0, 0, 0, 0.3));\n",
              "      fill: #FFFFFF;\n",
              "    }\n",
              "  </style>\n",
              "\n",
              "      <script>\n",
              "        const buttonEl =\n",
              "          document.querySelector('#df-ff93eed3-7c2a-4ecc-9ef4-ca1969756c74 button.colab-df-convert');\n",
              "        buttonEl.style.display =\n",
              "          google.colab.kernel.accessAllowed ? 'block' : 'none';\n",
              "\n",
              "        async function convertToInteractive(key) {\n",
              "          const element = document.querySelector('#df-ff93eed3-7c2a-4ecc-9ef4-ca1969756c74');\n",
              "          const dataTable =\n",
              "            await google.colab.kernel.invokeFunction('convertToInteractive',\n",
              "                                                     [key], {});\n",
              "          if (!dataTable) return;\n",
              "\n",
              "          const docLinkHtml = 'Like what you see? Visit the ' +\n",
              "            '<a target=\"_blank\" href=https://colab.research.google.com/notebooks/data_table.ipynb>data table notebook</a>'\n",
              "            + ' to learn more about interactive tables.';\n",
              "          element.innerHTML = '';\n",
              "          dataTable['output_type'] = 'display_data';\n",
              "          await google.colab.output.renderOutput(dataTable, element);\n",
              "          const docLink = document.createElement('div');\n",
              "          docLink.innerHTML = docLinkHtml;\n",
              "          element.appendChild(docLink);\n",
              "        }\n",
              "      </script>\n",
              "    </div>\n",
              "  </div>\n",
              "  "
            ]
          },
          "metadata": {},
          "execution_count": 22
        }
      ]
    },
    {
      "cell_type": "code",
      "source": [
        "dataset_ns.info()"
      ],
      "metadata": {
        "colab": {
          "base_uri": "https://localhost:8080/"
        },
        "id": "55eUrlK5IwMz",
        "outputId": "9aee29f9-8a26-4f45-a495-3a1ed0ba07fe"
      },
      "execution_count": 23,
      "outputs": [
        {
          "output_type": "stream",
          "name": "stdout",
          "text": [
            "<class 'pandas.core.frame.DataFrame'>\n",
            "Int64Index: 38531 entries, 0 to 38530\n",
            "Data columns (total 30 columns):\n",
            " #   Column             Non-Null Count  Dtype  \n",
            "---  ------             --------------  -----  \n",
            " 0   manufacturer_name  38531 non-null  object \n",
            " 1   model_name         38531 non-null  object \n",
            " 2   transmission       38531 non-null  object \n",
            " 3   color              38531 non-null  object \n",
            " 4   odometer_value     38531 non-null  int64  \n",
            " 5   year_produced      38531 non-null  int64  \n",
            " 6   engine_fuel        38531 non-null  object \n",
            " 7   engine_has_gas     38531 non-null  bool   \n",
            " 8   engine_type        38531 non-null  object \n",
            " 9   engine_capacity    38531 non-null  float64\n",
            " 10  body_type          38531 non-null  object \n",
            " 11  has_warranty       38531 non-null  bool   \n",
            " 12  state              38531 non-null  object \n",
            " 13  drivetrain         38531 non-null  object \n",
            " 14  price_usd          38531 non-null  float64\n",
            " 15  is_exchangeable    38531 non-null  bool   \n",
            " 16  location_region    38531 non-null  object \n",
            " 17  number_of_photos   38531 non-null  int64  \n",
            " 18  up_counter         38531 non-null  int64  \n",
            " 19  feature_0          38531 non-null  bool   \n",
            " 20  feature_1          38531 non-null  bool   \n",
            " 21  feature_2          38531 non-null  bool   \n",
            " 22  feature_3          38531 non-null  bool   \n",
            " 23  feature_4          38531 non-null  bool   \n",
            " 24  feature_5          38531 non-null  bool   \n",
            " 25  feature_6          38531 non-null  bool   \n",
            " 26  feature_7          38531 non-null  bool   \n",
            " 27  feature_8          38531 non-null  bool   \n",
            " 28  feature_9          38531 non-null  bool   \n",
            " 29  duration_listed    38531 non-null  float64\n",
            "dtypes: bool(13), float64(3), int64(4), object(10)\n",
            "memory usage: 5.8+ MB\n"
          ]
        }
      ]
    },
    {
      "cell_type": "code",
      "source": [
        "#NAIVE BAYES\n",
        "x = dataset_ns[['odometer_value','engine_capacity','year_produced','duration_listed']]\n",
        "y = dataset_ns['number_of_photos']"
      ],
      "metadata": {
        "id": "x6UfXosNIz3M"
      },
      "execution_count": 24,
      "outputs": []
    },
    {
      "cell_type": "code",
      "source": [
        "x_train, x_test, y_train, y_test = train_test_split(x, y, random_state=0, test_size=.2)"
      ],
      "metadata": {
        "id": "ynrmU-1_Jjqr"
      },
      "execution_count": 25,
      "outputs": []
    },
    {
      "cell_type": "code",
      "source": [
        "classifier = KNeighborsClassifier(n_neighbors = 5)"
      ],
      "metadata": {
        "id": "fh7bcFU7JlZU"
      },
      "execution_count": 26,
      "outputs": []
    },
    {
      "cell_type": "code",
      "source": [
        "classifier.fit(x_train,y_train)"
      ],
      "metadata": {
        "colab": {
          "base_uri": "https://localhost:8080/"
        },
        "id": "Oeq1cIgUJnz0",
        "outputId": "c8f4d408-5551-4597-ea59-c6c97f49aa05"
      },
      "execution_count": 27,
      "outputs": [
        {
          "output_type": "execute_result",
          "data": {
            "text/plain": [
              "KNeighborsClassifier()"
            ]
          },
          "metadata": {},
          "execution_count": 27
        }
      ]
    },
    {
      "cell_type": "code",
      "source": [
        "predicted_value = classifier.predict(x_test)\n",
        "accuracy = accuracy_score(y_test, predicted_value)"
      ],
      "metadata": {
        "id": "p9oA-QUrJsv8"
      },
      "execution_count": 30,
      "outputs": []
    },
    {
      "cell_type": "code",
      "source": [
        "print(f'hasil prediksi: {predicted_value}',\n",
        "     f'Class: {y_test}',\n",
        "     f'akurasi: {accuracy}',\n",
        "     sep = '\\n'\n",
        ")"
      ],
      "metadata": {
        "colab": {
          "base_uri": "https://localhost:8080/"
        },
        "id": "rAn8ETW4JuTY",
        "outputId": "ccdeec0c-02c0-4e40-ea99-5b858062800b"
      },
      "execution_count": 31,
      "outputs": [
        {
          "output_type": "stream",
          "name": "stdout",
          "text": [
            "hasil prediksi: [ 8 11 10 ...  3  9  3]\n",
            "Class: 5309     11\n",
            "15125     8\n",
            "23473    12\n",
            "28812     6\n",
            "7903     25\n",
            "         ..\n",
            "12585     6\n",
            "10862     2\n",
            "18457    10\n",
            "33034    10\n",
            "36712     9\n",
            "Name: number_of_photos, Length: 7707, dtype: int64\n",
            "akurasi: 0.07655378227585312\n"
          ]
        }
      ]
    },
    {
      "cell_type": "code",
      "source": [
        "classifier.score(x_test,y_test)"
      ],
      "metadata": {
        "colab": {
          "base_uri": "https://localhost:8080/"
        },
        "id": "S8A6zx5GJ8b-",
        "outputId": "e55952ec-2a25-41b5-dd42-0a7ec5d72176"
      },
      "execution_count": 32,
      "outputs": [
        {
          "output_type": "execute_result",
          "data": {
            "text/plain": [
              "0.07655378227585312"
            ]
          },
          "metadata": {},
          "execution_count": 32
        }
      ]
    },
    {
      "cell_type": "code",
      "source": [
        "x = dataset_ns[['odometer_value','engine_capacity','year_produced','duration_listed']]\n",
        "y = dataset_ns['number_of_photos']"
      ],
      "metadata": {
        "id": "v--1MJ6CJ-Yt"
      },
      "execution_count": 34,
      "outputs": []
    },
    {
      "cell_type": "code",
      "source": [
        "x_train, x_test, y_train, y_test = train_test_split(x, y, test_size=1, shuffle=False, stratify=None)"
      ],
      "metadata": {
        "id": "5iVrN3BvKFAe"
      },
      "execution_count": 35,
      "outputs": []
    },
    {
      "cell_type": "code",
      "source": [
        "classifier = GaussianNB()"
      ],
      "metadata": {
        "id": "gZcaCMgPKH5Y"
      },
      "execution_count": 36,
      "outputs": []
    },
    {
      "cell_type": "code",
      "source": [
        "classifier.fit(x_train,y_train)"
      ],
      "metadata": {
        "colab": {
          "base_uri": "https://localhost:8080/"
        },
        "id": "bIcXQ0_lKKN-",
        "outputId": "0528d35e-945f-42b7-faa8-09b307a1e41e"
      },
      "execution_count": 37,
      "outputs": [
        {
          "output_type": "execute_result",
          "data": {
            "text/plain": [
              "GaussianNB()"
            ]
          },
          "metadata": {},
          "execution_count": 37
        }
      ]
    },
    {
      "cell_type": "code",
      "source": [
        "predicted_value = classifier.predict(x_test)\n",
        "accuracy = accuracy_score(y_test, predicted_value)"
      ],
      "metadata": {
        "id": "RRTu93BBKMxM"
      },
      "execution_count": 38,
      "outputs": []
    },
    {
      "cell_type": "code",
      "source": [
        "print(f'hasil prediksi: {predicted_value}',\n",
        "     f'Class: {y_test}',\n",
        "     f'akurasi: {accuracy}',\n",
        "     sep = '\\n'\n",
        ")"
      ],
      "metadata": {
        "colab": {
          "base_uri": "https://localhost:8080/"
        },
        "id": "JqcehnKzKQCb",
        "outputId": "7e0cbd31-ec5d-4b56-8ac5-9f211e7cf20f"
      },
      "execution_count": 39,
      "outputs": [
        {
          "output_type": "stream",
          "name": "stdout",
          "text": [
            "hasil prediksi: [8]\n",
            "Class: 38530    4\n",
            "Name: number_of_photos, dtype: int64\n",
            "akurasi: 0.0\n"
          ]
        }
      ]
    },
    {
      "cell_type": "code",
      "source": [
        "classifier.score(x_test,y_test)"
      ],
      "metadata": {
        "colab": {
          "base_uri": "https://localhost:8080/"
        },
        "id": "7I9HYsM4KTCo",
        "outputId": "ee0db5d5-d088-4f81-c4c7-ec52e1ab11a2"
      },
      "execution_count": 40,
      "outputs": [
        {
          "output_type": "execute_result",
          "data": {
            "text/plain": [
              "0.0"
            ]
          },
          "metadata": {},
          "execution_count": 40
        }
      ]
    }
  ]
}