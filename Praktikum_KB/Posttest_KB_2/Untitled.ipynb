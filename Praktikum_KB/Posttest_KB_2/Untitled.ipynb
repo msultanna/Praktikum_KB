{
 "cells": [
  {
   "cell_type": "code",
   "execution_count": 1,
   "id": "d91ca0dd",
   "metadata": {},
   "outputs": [],
   "source": [
    "import pandas as pd"
   ]
  },
  {
   "cell_type": "code",
   "execution_count": 4,
   "id": "d2b41e94",
   "metadata": {},
   "outputs": [],
   "source": [
    "df = pd.read_csv(\"Top 2000 Universities of the World - Sheet1.csv\")"
   ]
  },
  {
   "cell_type": "code",
   "execution_count": 5,
   "id": "f9ca006a",
   "metadata": {},
   "outputs": [
    {
     "data": {
      "text/html": [
       "<div>\n",
       "<style scoped>\n",
       "    .dataframe tbody tr th:only-of-type {\n",
       "        vertical-align: middle;\n",
       "    }\n",
       "\n",
       "    .dataframe tbody tr th {\n",
       "        vertical-align: top;\n",
       "    }\n",
       "\n",
       "    .dataframe thead th {\n",
       "        text-align: right;\n",
       "    }\n",
       "</style>\n",
       "<table border=\"1\" class=\"dataframe\">\n",
       "  <thead>\n",
       "    <tr style=\"text-align: right;\">\n",
       "      <th></th>\n",
       "      <th>World Rank</th>\n",
       "      <th>Institution</th>\n",
       "      <th>Country</th>\n",
       "      <th>National Rank</th>\n",
       "      <th>Quality of Education Rank</th>\n",
       "      <th>Alumni Employment Rank</th>\n",
       "      <th>Quality of Faculty Rank</th>\n",
       "      <th>Research Performance Rank</th>\n",
       "      <th>Score</th>\n",
       "    </tr>\n",
       "  </thead>\n",
       "  <tbody>\n",
       "    <tr>\n",
       "      <th>0</th>\n",
       "      <td>1</td>\n",
       "      <td>Harvard University</td>\n",
       "      <td>USA</td>\n",
       "      <td>1</td>\n",
       "      <td>1</td>\n",
       "      <td>1</td>\n",
       "      <td>1</td>\n",
       "      <td>1</td>\n",
       "      <td>100.0</td>\n",
       "    </tr>\n",
       "    <tr>\n",
       "      <th>1</th>\n",
       "      <td>2</td>\n",
       "      <td>Massachusetts Institute of Technology</td>\n",
       "      <td>USA</td>\n",
       "      <td>2</td>\n",
       "      <td>4</td>\n",
       "      <td>12</td>\n",
       "      <td>2</td>\n",
       "      <td>8</td>\n",
       "      <td>96.7</td>\n",
       "    </tr>\n",
       "    <tr>\n",
       "      <th>2</th>\n",
       "      <td>3</td>\n",
       "      <td>Stanford University</td>\n",
       "      <td>USA</td>\n",
       "      <td>3</td>\n",
       "      <td>10</td>\n",
       "      <td>4</td>\n",
       "      <td>3</td>\n",
       "      <td>2</td>\n",
       "      <td>95.1</td>\n",
       "    </tr>\n",
       "    <tr>\n",
       "      <th>3</th>\n",
       "      <td>4</td>\n",
       "      <td>University of Cambridge</td>\n",
       "      <td>United Kingdom</td>\n",
       "      <td>1</td>\n",
       "      <td>3</td>\n",
       "      <td>25</td>\n",
       "      <td>4</td>\n",
       "      <td>10</td>\n",
       "      <td>94.1</td>\n",
       "    </tr>\n",
       "    <tr>\n",
       "      <th>4</th>\n",
       "      <td>5</td>\n",
       "      <td>University of Oxford</td>\n",
       "      <td>United Kingdom</td>\n",
       "      <td>2</td>\n",
       "      <td>7</td>\n",
       "      <td>27</td>\n",
       "      <td>9</td>\n",
       "      <td>4</td>\n",
       "      <td>93.3</td>\n",
       "    </tr>\n",
       "    <tr>\n",
       "      <th>...</th>\n",
       "      <td>...</td>\n",
       "      <td>...</td>\n",
       "      <td>...</td>\n",
       "      <td>...</td>\n",
       "      <td>...</td>\n",
       "      <td>...</td>\n",
       "      <td>...</td>\n",
       "      <td>...</td>\n",
       "      <td>...</td>\n",
       "    </tr>\n",
       "    <tr>\n",
       "      <th>1995</th>\n",
       "      <td>1996</td>\n",
       "      <td>Santa Catarina State University</td>\n",
       "      <td>Brazil</td>\n",
       "      <td>56</td>\n",
       "      <td>-</td>\n",
       "      <td>936</td>\n",
       "      <td>-</td>\n",
       "      <td>1938</td>\n",
       "      <td>65.8</td>\n",
       "    </tr>\n",
       "    <tr>\n",
       "      <th>1996</th>\n",
       "      <td>1997</td>\n",
       "      <td>Yancheng Institute of Technology</td>\n",
       "      <td>China</td>\n",
       "      <td>275</td>\n",
       "      <td>-</td>\n",
       "      <td>-</td>\n",
       "      <td>-</td>\n",
       "      <td>1920</td>\n",
       "      <td>65.7</td>\n",
       "    </tr>\n",
       "    <tr>\n",
       "      <th>1997</th>\n",
       "      <td>1998</td>\n",
       "      <td>Xi'an University of Science and Technology</td>\n",
       "      <td>China</td>\n",
       "      <td>276</td>\n",
       "      <td>-</td>\n",
       "      <td>994</td>\n",
       "      <td>-</td>\n",
       "      <td>1937</td>\n",
       "      <td>65.7</td>\n",
       "    </tr>\n",
       "    <tr>\n",
       "      <th>1998</th>\n",
       "      <td>1999</td>\n",
       "      <td>CEU San Pablo University</td>\n",
       "      <td>Spain</td>\n",
       "      <td>53</td>\n",
       "      <td>-</td>\n",
       "      <td>568</td>\n",
       "      <td>-</td>\n",
       "      <td>1992</td>\n",
       "      <td>65.7</td>\n",
       "    </tr>\n",
       "    <tr>\n",
       "      <th>1999</th>\n",
       "      <td>2000</td>\n",
       "      <td>Huzhou University</td>\n",
       "      <td>China</td>\n",
       "      <td>277</td>\n",
       "      <td>-</td>\n",
       "      <td>-</td>\n",
       "      <td>-</td>\n",
       "      <td>1922</td>\n",
       "      <td>65.7</td>\n",
       "    </tr>\n",
       "  </tbody>\n",
       "</table>\n",
       "<p>2000 rows × 9 columns</p>\n",
       "</div>"
      ],
      "text/plain": [
       "      World Rank                                 Institution         Country  \\\n",
       "0              1                          Harvard University             USA   \n",
       "1              2       Massachusetts Institute of Technology             USA   \n",
       "2              3                         Stanford University             USA   \n",
       "3              4                     University of Cambridge  United Kingdom   \n",
       "4              5                        University of Oxford  United Kingdom   \n",
       "...          ...                                         ...             ...   \n",
       "1995        1996             Santa Catarina State University          Brazil   \n",
       "1996        1997            Yancheng Institute of Technology           China   \n",
       "1997        1998  Xi'an University of Science and Technology           China   \n",
       "1998        1999                    CEU San Pablo University           Spain   \n",
       "1999        2000                           Huzhou University           China   \n",
       "\n",
       "      National Rank Quality of Education Rank Alumni Employment Rank  \\\n",
       "0                 1                         1                      1   \n",
       "1                 2                         4                     12   \n",
       "2                 3                        10                      4   \n",
       "3                 1                         3                     25   \n",
       "4                 2                         7                     27   \n",
       "...             ...                       ...                    ...   \n",
       "1995             56                         -                    936   \n",
       "1996            275                         -                      -   \n",
       "1997            276                         -                    994   \n",
       "1998             53                         -                    568   \n",
       "1999            277                         -                      -   \n",
       "\n",
       "     Quality of Faculty Rank Research Performance Rank  Score  \n",
       "0                          1                         1  100.0  \n",
       "1                          2                         8   96.7  \n",
       "2                          3                         2   95.1  \n",
       "3                          4                        10   94.1  \n",
       "4                          9                         4   93.3  \n",
       "...                      ...                       ...    ...  \n",
       "1995                       -                      1938   65.8  \n",
       "1996                       -                      1920   65.7  \n",
       "1997                       -                      1937   65.7  \n",
       "1998                       -                      1992   65.7  \n",
       "1999                       -                      1922   65.7  \n",
       "\n",
       "[2000 rows x 9 columns]"
      ]
     },
     "execution_count": 5,
     "metadata": {},
     "output_type": "execute_result"
    }
   ],
   "source": [
    "df"
   ]
  },
  {
   "cell_type": "code",
   "execution_count": 6,
   "id": "1bbda5e6",
   "metadata": {},
   "outputs": [
    {
     "data": {
      "text/plain": [
       "World Rank                     int64\n",
       "Institution                   object\n",
       "Country                       object\n",
       "National Rank                  int64\n",
       "Quality of Education Rank     object\n",
       "Alumni Employment Rank        object\n",
       "Quality of Faculty Rank       object\n",
       "Research Performance Rank     object\n",
       "Score                        float64\n",
       "dtype: object"
      ]
     },
     "execution_count": 6,
     "metadata": {},
     "output_type": "execute_result"
    }
   ],
   "source": [
    "df.dtypes"
   ]
  },
  {
   "cell_type": "code",
   "execution_count": 7,
   "id": "d8432787",
   "metadata": {},
   "outputs": [
    {
     "data": {
      "text/plain": [
       "total record                                                            2000\n",
       "Nama Attribute yang ada    Index(['World Rank', 'Institution', 'Country',...\n",
       "Jumlah Objek                                                               6\n",
       "Jumlah Angka                                                               3\n",
       "Jumlah NULL                                                                0\n",
       "dtype: object"
      ]
     },
     "execution_count": 7,
     "metadata": {},
     "output_type": "execute_result"
    }
   ],
   "source": [
    "totalRecord = len(df)\n",
    "namaAttribute = df.columns\n",
    "jumlahObjek = len(df.select_dtypes(include=['object']).columns)\n",
    "jumlahAngka = len(df.select_dtypes(include=['int64', 'float64']).columns)\n",
    "jumlahNULL = len(df.columns[df.isna().sum() > 0])\n",
    "\n",
    "dictionary_no1 = {\n",
    "    \"total record\": totalRecord,\n",
    "    \"Nama Attribute yang ada\": namaAttribute,\n",
    "    \"Jumlah Objek\": jumlahObjek,\n",
    "    \"Jumlah Angka\": jumlahAngka,\n",
    "    \"Jumlah NULL\": jumlahNULL,\n",
    "}\n",
    "\n",
    "pd.Series(dictionary_no1)"
   ]
  },
  {
   "cell_type": "code",
   "execution_count": 8,
   "id": "f1f3269b",
   "metadata": {},
   "outputs": [
    {
     "data": {
      "text/plain": [
       "World Rank       1000.50000\n",
       "National Rank      67.52300\n",
       "Score              71.58645\n",
       "dtype: float64"
      ]
     },
     "execution_count": 8,
     "metadata": {},
     "output_type": "execute_result"
    }
   ],
   "source": [
    "df.select_dtypes(include=['int64', 'float64']).mean()"
   ]
  },
  {
   "cell_type": "code",
   "execution_count": 9,
   "id": "2bda1912",
   "metadata": {},
   "outputs": [
    {
     "data": {
      "text/plain": [
       "World Rank        1.0\n",
       "National Rank     1.0\n",
       "Score            65.7\n",
       "dtype: float64"
      ]
     },
     "execution_count": 9,
     "metadata": {},
     "output_type": "execute_result"
    }
   ],
   "source": [
    "df.select_dtypes(include=['int64', 'float64']).min()"
   ]
  },
  {
   "cell_type": "code",
   "execution_count": 10,
   "id": "84ba7540",
   "metadata": {},
   "outputs": [
    {
     "data": {
      "text/plain": [
       "World Rank       2000.0\n",
       "National Rank     347.0\n",
       "Score             100.0\n",
       "dtype: float64"
      ]
     },
     "execution_count": 10,
     "metadata": {},
     "output_type": "execute_result"
    }
   ],
   "source": [
    "df.select_dtypes(include=['int64', 'float64']).max()"
   ]
  },
  {
   "cell_type": "code",
   "execution_count": 11,
   "id": "3b620993",
   "metadata": {},
   "outputs": [
    {
     "data": {
      "text/html": [
       "<div>\n",
       "<style scoped>\n",
       "    .dataframe tbody tr th:only-of-type {\n",
       "        vertical-align: middle;\n",
       "    }\n",
       "\n",
       "    .dataframe tbody tr th {\n",
       "        vertical-align: top;\n",
       "    }\n",
       "\n",
       "    .dataframe thead th {\n",
       "        text-align: right;\n",
       "    }\n",
       "</style>\n",
       "<table border=\"1\" class=\"dataframe\">\n",
       "  <thead>\n",
       "    <tr style=\"text-align: right;\">\n",
       "      <th></th>\n",
       "      <th>World Rank</th>\n",
       "      <th>National Rank</th>\n",
       "      <th>Score</th>\n",
       "    </tr>\n",
       "  </thead>\n",
       "  <tbody>\n",
       "    <tr>\n",
       "      <th>0.25</th>\n",
       "      <td>500.75</td>\n",
       "      <td>10.0</td>\n",
       "      <td>67.7</td>\n",
       "    </tr>\n",
       "    <tr>\n",
       "      <th>0.50</th>\n",
       "      <td>1000.50</td>\n",
       "      <td>33.0</td>\n",
       "      <td>70.2</td>\n",
       "    </tr>\n",
       "    <tr>\n",
       "      <th>0.75</th>\n",
       "      <td>1500.25</td>\n",
       "      <td>86.0</td>\n",
       "      <td>74.1</td>\n",
       "    </tr>\n",
       "  </tbody>\n",
       "</table>\n",
       "</div>"
      ],
      "text/plain": [
       "      World Rank  National Rank  Score\n",
       "0.25      500.75           10.0   67.7\n",
       "0.50     1000.50           33.0   70.2\n",
       "0.75     1500.25           86.0   74.1"
      ]
     },
     "execution_count": 11,
     "metadata": {},
     "output_type": "execute_result"
    }
   ],
   "source": [
    "df.select_dtypes(include=['int64', 'float64']).quantile([0.25,0.5,0.75])"
   ]
  },
  {
   "cell_type": "code",
   "execution_count": 12,
   "id": "d556bab0",
   "metadata": {},
   "outputs": [
    {
     "data": {
      "text/html": [
       "<div>\n",
       "<style scoped>\n",
       "    .dataframe tbody tr th:only-of-type {\n",
       "        vertical-align: middle;\n",
       "    }\n",
       "\n",
       "    .dataframe tbody tr th {\n",
       "        vertical-align: top;\n",
       "    }\n",
       "\n",
       "    .dataframe thead th {\n",
       "        text-align: right;\n",
       "    }\n",
       "</style>\n",
       "<table border=\"1\" class=\"dataframe\">\n",
       "  <thead>\n",
       "    <tr style=\"text-align: right;\">\n",
       "      <th></th>\n",
       "      <th>World Rank</th>\n",
       "      <th>National Rank</th>\n",
       "      <th>Score</th>\n",
       "    </tr>\n",
       "  </thead>\n",
       "  <tbody>\n",
       "    <tr>\n",
       "      <th>count</th>\n",
       "      <td>2000.000000</td>\n",
       "      <td>2000.000000</td>\n",
       "      <td>2000.000000</td>\n",
       "    </tr>\n",
       "    <tr>\n",
       "      <th>mean</th>\n",
       "      <td>1000.500000</td>\n",
       "      <td>67.523000</td>\n",
       "      <td>71.586450</td>\n",
       "    </tr>\n",
       "    <tr>\n",
       "      <th>std</th>\n",
       "      <td>577.494589</td>\n",
       "      <td>83.128615</td>\n",
       "      <td>5.079795</td>\n",
       "    </tr>\n",
       "    <tr>\n",
       "      <th>min</th>\n",
       "      <td>1.000000</td>\n",
       "      <td>1.000000</td>\n",
       "      <td>65.700000</td>\n",
       "    </tr>\n",
       "    <tr>\n",
       "      <th>25%</th>\n",
       "      <td>500.750000</td>\n",
       "      <td>10.000000</td>\n",
       "      <td>67.700000</td>\n",
       "    </tr>\n",
       "    <tr>\n",
       "      <th>50%</th>\n",
       "      <td>1000.500000</td>\n",
       "      <td>33.000000</td>\n",
       "      <td>70.200000</td>\n",
       "    </tr>\n",
       "    <tr>\n",
       "      <th>75%</th>\n",
       "      <td>1500.250000</td>\n",
       "      <td>86.000000</td>\n",
       "      <td>74.100000</td>\n",
       "    </tr>\n",
       "    <tr>\n",
       "      <th>max</th>\n",
       "      <td>2000.000000</td>\n",
       "      <td>347.000000</td>\n",
       "      <td>100.000000</td>\n",
       "    </tr>\n",
       "  </tbody>\n",
       "</table>\n",
       "</div>"
      ],
      "text/plain": [
       "        World Rank  National Rank        Score\n",
       "count  2000.000000    2000.000000  2000.000000\n",
       "mean   1000.500000      67.523000    71.586450\n",
       "std     577.494589      83.128615     5.079795\n",
       "min       1.000000       1.000000    65.700000\n",
       "25%     500.750000      10.000000    67.700000\n",
       "50%    1000.500000      33.000000    70.200000\n",
       "75%    1500.250000      86.000000    74.100000\n",
       "max    2000.000000     347.000000   100.000000"
      ]
     },
     "execution_count": 12,
     "metadata": {},
     "output_type": "execute_result"
    }
   ],
   "source": [
    "df.describe()"
   ]
  },
  {
   "cell_type": "code",
   "execution_count": 13,
   "id": "eab0465f",
   "metadata": {},
   "outputs": [
    {
     "data": {
      "text/html": [
       "<div>\n",
       "<style scoped>\n",
       "    .dataframe tbody tr th:only-of-type {\n",
       "        vertical-align: middle;\n",
       "    }\n",
       "\n",
       "    .dataframe tbody tr th {\n",
       "        vertical-align: top;\n",
       "    }\n",
       "\n",
       "    .dataframe thead th {\n",
       "        text-align: right;\n",
       "    }\n",
       "</style>\n",
       "<table border=\"1\" class=\"dataframe\">\n",
       "  <thead>\n",
       "    <tr style=\"text-align: right;\">\n",
       "      <th></th>\n",
       "      <th>World Rank</th>\n",
       "      <th>National Rank</th>\n",
       "      <th>Score</th>\n",
       "    </tr>\n",
       "  </thead>\n",
       "  <tbody>\n",
       "    <tr>\n",
       "      <th>World Rank</th>\n",
       "      <td>1.00000</td>\n",
       "      <td>0.344200</td>\n",
       "      <td>-0.916950</td>\n",
       "    </tr>\n",
       "    <tr>\n",
       "      <th>National Rank</th>\n",
       "      <td>0.34420</td>\n",
       "      <td>1.000000</td>\n",
       "      <td>-0.329112</td>\n",
       "    </tr>\n",
       "    <tr>\n",
       "      <th>Score</th>\n",
       "      <td>-0.91695</td>\n",
       "      <td>-0.329112</td>\n",
       "      <td>1.000000</td>\n",
       "    </tr>\n",
       "  </tbody>\n",
       "</table>\n",
       "</div>"
      ],
      "text/plain": [
       "               World Rank  National Rank     Score\n",
       "World Rank        1.00000       0.344200 -0.916950\n",
       "National Rank     0.34420       1.000000 -0.329112\n",
       "Score            -0.91695      -0.329112  1.000000"
      ]
     },
     "execution_count": 13,
     "metadata": {},
     "output_type": "execute_result"
    }
   ],
   "source": [
    "df.select_dtypes(include=['int64', 'float64']).corr()"
   ]
  },
  {
   "cell_type": "code",
   "execution_count": 26,
   "id": "ce1a0536",
   "metadata": {},
   "outputs": [
    {
     "data": {
      "text/plain": [
       "dtype('int64')"
      ]
     },
     "execution_count": 26,
     "metadata": {},
     "output_type": "execute_result"
    }
   ],
   "source": [
    "df[\"World Rank\"] = df[\"World Rank\"].astype('int64', errors='ignore')\n",
    "df[\"World Rank\"].dtypes"
   ]
  },
  {
   "cell_type": "code",
   "execution_count": 32,
   "id": "826a1cbe",
   "metadata": {},
   "outputs": [
    {
     "data": {
      "text/html": [
       "<div>\n",
       "<style scoped>\n",
       "    .dataframe tbody tr th:only-of-type {\n",
       "        vertical-align: middle;\n",
       "    }\n",
       "\n",
       "    .dataframe tbody tr th {\n",
       "        vertical-align: top;\n",
       "    }\n",
       "\n",
       "    .dataframe thead th {\n",
       "        text-align: right;\n",
       "    }\n",
       "</style>\n",
       "<table border=\"1\" class=\"dataframe\">\n",
       "  <thead>\n",
       "    <tr style=\"text-align: right;\">\n",
       "      <th></th>\n",
       "      <th>World Rank</th>\n",
       "      <th>National Rank</th>\n",
       "      <th>Score</th>\n",
       "    </tr>\n",
       "  </thead>\n",
       "  <tbody>\n",
       "    <tr>\n",
       "      <th>0</th>\n",
       "      <td>1</td>\n",
       "      <td>1</td>\n",
       "      <td>100.0</td>\n",
       "    </tr>\n",
       "    <tr>\n",
       "      <th>1</th>\n",
       "      <td>2</td>\n",
       "      <td>2</td>\n",
       "      <td>96.7</td>\n",
       "    </tr>\n",
       "    <tr>\n",
       "      <th>2</th>\n",
       "      <td>3</td>\n",
       "      <td>3</td>\n",
       "      <td>95.1</td>\n",
       "    </tr>\n",
       "    <tr>\n",
       "      <th>3</th>\n",
       "      <td>4</td>\n",
       "      <td>1</td>\n",
       "      <td>94.1</td>\n",
       "    </tr>\n",
       "    <tr>\n",
       "      <th>4</th>\n",
       "      <td>5</td>\n",
       "      <td>2</td>\n",
       "      <td>93.3</td>\n",
       "    </tr>\n",
       "    <tr>\n",
       "      <th>5</th>\n",
       "      <td>6</td>\n",
       "      <td>4</td>\n",
       "      <td>92.6</td>\n",
       "    </tr>\n",
       "    <tr>\n",
       "      <th>6</th>\n",
       "      <td>7</td>\n",
       "      <td>5</td>\n",
       "      <td>92.0</td>\n",
       "    </tr>\n",
       "    <tr>\n",
       "      <th>7</th>\n",
       "      <td>8</td>\n",
       "      <td>6</td>\n",
       "      <td>91.5</td>\n",
       "    </tr>\n",
       "    <tr>\n",
       "      <th>8</th>\n",
       "      <td>9</td>\n",
       "      <td>7</td>\n",
       "      <td>91.1</td>\n",
       "    </tr>\n",
       "    <tr>\n",
       "      <th>9</th>\n",
       "      <td>10</td>\n",
       "      <td>8</td>\n",
       "      <td>90.7</td>\n",
       "    </tr>\n",
       "  </tbody>\n",
       "</table>\n",
       "</div>"
      ],
      "text/plain": [
       "   World Rank  National Rank  Score\n",
       "0           1              1  100.0\n",
       "1           2              2   96.7\n",
       "2           3              3   95.1\n",
       "3           4              1   94.1\n",
       "4           5              2   93.3\n",
       "5           6              4   92.6\n",
       "6           7              5   92.0\n",
       "7           8              6   91.5\n",
       "8           9              7   91.1\n",
       "9          10              8   90.7"
      ]
     },
     "execution_count": 32,
     "metadata": {},
     "output_type": "execute_result"
    }
   ],
   "source": [
    "df.select_dtypes(include=['int64', 'float64']).head(10)"
   ]
  },
  {
   "cell_type": "code",
   "execution_count": 33,
   "id": "666be3b3",
   "metadata": {},
   "outputs": [],
   "source": [
    "df.select_dtypes(include=['int64', 'float64']).to_csv(\"Atribut_Bertipe Angka_Yu-Gi-Oh!.csv\", index=False)"
   ]
  },
  {
   "cell_type": "code",
   "execution_count": null,
   "id": "ac9f1c5c",
   "metadata": {},
   "outputs": [],
   "source": []
  }
 ],
 "metadata": {
  "kernelspec": {
   "display_name": "Python 3 (ipykernel)",
   "language": "python",
   "name": "python3"
  },
  "language_info": {
   "codemirror_mode": {
    "name": "ipython",
    "version": 3
   },
   "file_extension": ".py",
   "mimetype": "text/x-python",
   "name": "python",
   "nbconvert_exporter": "python",
   "pygments_lexer": "ipython3",
   "version": "3.9.0"
  }
 },
 "nbformat": 4,
 "nbformat_minor": 5
}
